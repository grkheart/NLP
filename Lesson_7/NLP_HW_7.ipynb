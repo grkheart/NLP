{
  "nbformat": 4,
  "nbformat_minor": 0,
  "metadata": {
    "colab": {
      "name": "Lesson7.ipynb",
      "provenance": []
    },
    "kernelspec": {
      "name": "python3",
      "display_name": "Python 3"
    },
    "language_info": {
      "name": "python"
    }
  },
  "cells": [
    {
      "cell_type": "markdown",
      "metadata": {
        "id": "Slmev71Guteb"
      },
      "source": [
        "# Сверточные нейронные сети для анализа текста"
      ]
    },
    {
      "cell_type": "code",
      "metadata": {
        "colab": {
          "base_uri": "https://localhost:8080/"
        },
        "id": "CS67HQCLINuD",
        "outputId": "e9147d09-26b8-4ffa-8a25-07f33e7e1daf"
      },
      "source": [
        "!pip install pymorphy2"
      ],
      "execution_count": 10,
      "outputs": [
        {
          "output_type": "stream",
          "text": [
            "Collecting pymorphy2\n",
            "  Downloading pymorphy2-0.9.1-py3-none-any.whl (55 kB)\n",
            "\u001b[?25l\r\u001b[K     |██████                          | 10 kB 21.8 MB/s eta 0:00:01\r\u001b[K     |███████████▉                    | 20 kB 28.0 MB/s eta 0:00:01\r\u001b[K     |█████████████████▊              | 30 kB 33.0 MB/s eta 0:00:01\r\u001b[K     |███████████████████████▋        | 40 kB 34.2 MB/s eta 0:00:01\r\u001b[K     |█████████████████████████████▌  | 51 kB 30.3 MB/s eta 0:00:01\r\u001b[K     |████████████████████████████████| 55 kB 3.5 MB/s \n",
            "\u001b[?25hCollecting dawg-python>=0.7.1\n",
            "  Downloading DAWG_Python-0.7.2-py2.py3-none-any.whl (11 kB)\n",
            "Requirement already satisfied: docopt>=0.6 in /usr/local/lib/python3.7/dist-packages (from pymorphy2) (0.6.2)\n",
            "Collecting pymorphy2-dicts-ru<3.0,>=2.4\n",
            "  Downloading pymorphy2_dicts_ru-2.4.417127.4579844-py2.py3-none-any.whl (8.2 MB)\n",
            "\u001b[K     |████████████████████████████████| 8.2 MB 24.0 MB/s \n",
            "\u001b[?25hInstalling collected packages: pymorphy2-dicts-ru, dawg-python, pymorphy2\n",
            "Successfully installed dawg-python-0.7.2 pymorphy2-0.9.1 pymorphy2-dicts-ru-2.4.417127.4579844\n"
          ],
          "name": "stdout"
        }
      ]
    },
    {
      "cell_type": "code",
      "metadata": {
        "colab": {
          "base_uri": "https://localhost:8080/"
        },
        "id": "3Nr1mJO9IVzd",
        "outputId": "10cde0bc-ea62-45b2-8147-8893bfb975cb"
      },
      "source": [
        "!pip install stop-words"
      ],
      "execution_count": 12,
      "outputs": [
        {
          "output_type": "stream",
          "text": [
            "Collecting stop-words\n",
            "  Downloading stop-words-2018.7.23.tar.gz (31 kB)\n",
            "Building wheels for collected packages: stop-words\n",
            "  Building wheel for stop-words (setup.py) ... \u001b[?25l\u001b[?25hdone\n",
            "  Created wheel for stop-words: filename=stop_words-2018.7.23-py3-none-any.whl size=32911 sha256=aae7f6acdc0014ef4e38b2814e0c1d6f1c1d07e8673b43ea0a1aa7c66e200ef9\n",
            "  Stored in directory: /root/.cache/pip/wheels/fb/86/b2/277b10b1ce9f73ce15059bf6975d4547cc4ec3feeb651978e9\n",
            "Successfully built stop-words\n",
            "Installing collected packages: stop-words\n",
            "Successfully installed stop-words-2018.7.23\n"
          ],
          "name": "stdout"
        }
      ]
    },
    {
      "cell_type": "code",
      "metadata": {
        "id": "hjnththv_iYD"
      },
      "source": [
        "import pandas as pd\n",
        "import numpy as np\n",
        "\n",
        "from sklearn.model_selection import train_test_split\n",
        "\n",
        "from string import punctuation\n",
        "from stop_words import get_stop_words\n",
        "from pymorphy2 import MorphAnalyzer\n",
        "import re\n",
        "\n",
        "import nltk\n",
        "from nltk.tokenize import word_tokenize\n",
        "from nltk.probability import FreqDist\n"
      ],
      "execution_count": 23,
      "outputs": []
    },
    {
      "cell_type": "code",
      "metadata": {
        "id": "84N2UJiPJnfC"
      },
      "source": [
        "import keras\n",
        "from keras.models import Sequential, Model\n",
        "from keras.layers import Dense, Dropout, Activation, Input, Embedding, Conv1D, GlobalMaxPool1D\n",
        "from keras.preprocessing.text import Tokenizer\n",
        "from keras.preprocessing.sequence import pad_sequences\n",
        "from keras.callbacks import TensorBoard \n",
        "from keras.metrics import categorical_crossentropy\n",
        "from keras.callbacks import EarlyStopping\n",
        "\n",
        "import tensorflow as tf"
      ],
      "execution_count": 36,
      "outputs": []
    },
    {
      "cell_type": "code",
      "metadata": {
        "colab": {
          "base_uri": "https://localhost:8080/"
        },
        "id": "AqcyRdPIIvWy",
        "outputId": "9f654b64-9ea0-4d79-a66b-06e66f692b7a"
      },
      "source": [
        "nltk.download(\"punkt\")"
      ],
      "execution_count": 19,
      "outputs": [
        {
          "output_type": "stream",
          "text": [
            "[nltk_data] Downloading package punkt to /root/nltk_data...\n",
            "[nltk_data]   Unzipping tokenizers/punkt.zip.\n"
          ],
          "name": "stdout"
        },
        {
          "output_type": "execute_result",
          "data": {
            "text/plain": [
              "True"
            ]
          },
          "metadata": {
            "tags": []
          },
          "execution_count": 19
        }
      ]
    },
    {
      "cell_type": "code",
      "metadata": {
        "id": "-6DmyQdjHK5m"
      },
      "source": [
        "df = pd.read_excel('../content/drive/MyDrive/отзывы за лето.xls')"
      ],
      "execution_count": 2,
      "outputs": []
    },
    {
      "cell_type": "code",
      "metadata": {
        "colab": {
          "base_uri": "https://localhost:8080/",
          "height": 202
        },
        "id": "mt-JzmPUHK8I",
        "outputId": "313dcb77-dd7c-4327-be81-cbb7fc78cbfb"
      },
      "source": [
        "df.head()"
      ],
      "execution_count": 3,
      "outputs": [
        {
          "output_type": "execute_result",
          "data": {
            "text/html": [
              "<div>\n",
              "<style scoped>\n",
              "    .dataframe tbody tr th:only-of-type {\n",
              "        vertical-align: middle;\n",
              "    }\n",
              "\n",
              "    .dataframe tbody tr th {\n",
              "        vertical-align: top;\n",
              "    }\n",
              "\n",
              "    .dataframe thead th {\n",
              "        text-align: right;\n",
              "    }\n",
              "</style>\n",
              "<table border=\"1\" class=\"dataframe\">\n",
              "  <thead>\n",
              "    <tr style=\"text-align: right;\">\n",
              "      <th></th>\n",
              "      <th>Rating</th>\n",
              "      <th>Content</th>\n",
              "      <th>Date</th>\n",
              "    </tr>\n",
              "  </thead>\n",
              "  <tbody>\n",
              "    <tr>\n",
              "      <th>0</th>\n",
              "      <td>5</td>\n",
              "      <td>It just works!</td>\n",
              "      <td>2017-08-14</td>\n",
              "    </tr>\n",
              "    <tr>\n",
              "      <th>1</th>\n",
              "      <td>4</td>\n",
              "      <td>В целом удобноное приложение...из минусов хотя...</td>\n",
              "      <td>2017-08-14</td>\n",
              "    </tr>\n",
              "    <tr>\n",
              "      <th>2</th>\n",
              "      <td>5</td>\n",
              "      <td>Отлично все</td>\n",
              "      <td>2017-08-14</td>\n",
              "    </tr>\n",
              "    <tr>\n",
              "      <th>3</th>\n",
              "      <td>5</td>\n",
              "      <td>Стал зависать на 1% работы антивируса. Дальше ...</td>\n",
              "      <td>2017-08-14</td>\n",
              "    </tr>\n",
              "    <tr>\n",
              "      <th>4</th>\n",
              "      <td>5</td>\n",
              "      <td>Очень удобно, работает быстро.</td>\n",
              "      <td>2017-08-14</td>\n",
              "    </tr>\n",
              "  </tbody>\n",
              "</table>\n",
              "</div>"
            ],
            "text/plain": [
              "   Rating                                            Content        Date\n",
              "0       5                                     It just works!  2017-08-14\n",
              "1       4  В целом удобноное приложение...из минусов хотя...  2017-08-14\n",
              "2       5                                        Отлично все  2017-08-14\n",
              "3       5  Стал зависать на 1% работы антивируса. Дальше ...  2017-08-14\n",
              "4       5                     Очень удобно, работает быстро.  2017-08-14"
            ]
          },
          "metadata": {
            "tags": []
          },
          "execution_count": 3
        }
      ]
    },
    {
      "cell_type": "code",
      "metadata": {
        "id": "eHCHZYdYII_5"
      },
      "source": [
        "df.drop('Date', axis=1, inplace=True)"
      ],
      "execution_count": 7,
      "outputs": []
    },
    {
      "cell_type": "code",
      "metadata": {
        "id": "YOshLsPhHK-i"
      },
      "source": [
        "df_train, for_test = train_test_split(df, test_size=0.35,  shuffle=True)\n",
        "df_test, df_val = train_test_split(for_test, test_size=0.42, shuffle=True)"
      ],
      "execution_count": 8,
      "outputs": []
    },
    {
      "cell_type": "code",
      "metadata": {
        "colab": {
          "base_uri": "https://localhost:8080/",
          "height": 202
        },
        "id": "DjatzYtpHLBQ",
        "outputId": "fefb1269-f205-4912-838c-4754029358b8"
      },
      "source": [
        "df_train.head(5)"
      ],
      "execution_count": 9,
      "outputs": [
        {
          "output_type": "execute_result",
          "data": {
            "text/html": [
              "<div>\n",
              "<style scoped>\n",
              "    .dataframe tbody tr th:only-of-type {\n",
              "        vertical-align: middle;\n",
              "    }\n",
              "\n",
              "    .dataframe tbody tr th {\n",
              "        vertical-align: top;\n",
              "    }\n",
              "\n",
              "    .dataframe thead th {\n",
              "        text-align: right;\n",
              "    }\n",
              "</style>\n",
              "<table border=\"1\" class=\"dataframe\">\n",
              "  <thead>\n",
              "    <tr style=\"text-align: right;\">\n",
              "      <th></th>\n",
              "      <th>Rating</th>\n",
              "      <th>Content</th>\n",
              "    </tr>\n",
              "  </thead>\n",
              "  <tbody>\n",
              "    <tr>\n",
              "      <th>11946</th>\n",
              "      <td>5</td>\n",
              "      <td>Очень удобное и простое в обращении приложение!</td>\n",
              "    </tr>\n",
              "    <tr>\n",
              "      <th>17915</th>\n",
              "      <td>3</td>\n",
              "      <td>Почему нельзя пополнить счёт другого номера .в...</td>\n",
              "    </tr>\n",
              "    <tr>\n",
              "      <th>3186</th>\n",
              "      <td>5</td>\n",
              "      <td>Всё очень удобно сделано,мне нравится.</td>\n",
              "    </tr>\n",
              "    <tr>\n",
              "      <th>16647</th>\n",
              "      <td>5</td>\n",
              "      <td>Приложение работает не плохо , все устраевает</td>\n",
              "    </tr>\n",
              "    <tr>\n",
              "      <th>2939</th>\n",
              "      <td>5</td>\n",
              "      <td>Елена</td>\n",
              "    </tr>\n",
              "  </tbody>\n",
              "</table>\n",
              "</div>"
            ],
            "text/plain": [
              "       Rating                                            Content\n",
              "11946       5    Очень удобное и простое в обращении приложение!\n",
              "17915       3  Почему нельзя пополнить счёт другого номера .в...\n",
              "3186        5             Всё очень удобно сделано,мне нравится.\n",
              "16647       5      Приложение работает не плохо , все устраевает\n",
              "2939        5                                              Елена"
            ]
          },
          "metadata": {
            "tags": []
          },
          "execution_count": 9
        }
      ]
    },
    {
      "cell_type": "code",
      "metadata": {
        "id": "DiCBTGydJHGC"
      },
      "source": [
        "max_words = 2000 \n",
        "max_len = 20\n",
        "num_classes = 6"
      ],
      "execution_count": 27,
      "outputs": []
    },
    {
      "cell_type": "code",
      "metadata": {
        "id": "tkJKPzZWHLD7"
      },
      "source": [
        "sw = set(get_stop_words(\"ru\"))\n",
        "exclude = set(punctuation)\n",
        "morpher = MorphAnalyzer()"
      ],
      "execution_count": 14,
      "outputs": []
    },
    {
      "cell_type": "code",
      "metadata": {
        "id": "5YVMgLreHLGY"
      },
      "source": [
        "def preprocess_text(txt):\n",
        "    txt = str(txt)\n",
        "    txt = \"\".join(c for c in txt if c not in exclude)\n",
        "    txt = txt.lower()\n",
        "    txt = re.sub(\"\\sне\", \"не\", txt)\n",
        "    txt = [morpher.parse(word)[0].normal_form for word in txt.split() if word not in sw]\n",
        "    return \" \".join(txt)"
      ],
      "execution_count": 15,
      "outputs": []
    },
    {
      "cell_type": "code",
      "metadata": {
        "colab": {
          "base_uri": "https://localhost:8080/"
        },
        "id": "jAdfLsfXIcqu",
        "outputId": "185ad221-6bd9-4fc1-a6c0-e3e95f6b68ed"
      },
      "source": [
        "df_train['Content'] = df_train['Content'].apply(preprocess_text)\n",
        "df_val['Content'] = df_val['Content'].apply(preprocess_text)\n",
        "df_test['Content'] = df_test['Content'].apply(preprocess_text)"
      ],
      "execution_count": 17,
      "outputs": [
        {
          "output_type": "stream",
          "text": [
            "/usr/local/lib/python3.7/dist-packages/ipykernel_launcher.py:1: SettingWithCopyWarning: \n",
            "A value is trying to be set on a copy of a slice from a DataFrame.\n",
            "Try using .loc[row_indexer,col_indexer] = value instead\n",
            "\n",
            "See the caveats in the documentation: https://pandas.pydata.org/pandas-docs/stable/user_guide/indexing.html#returning-a-view-versus-a-copy\n",
            "  \"\"\"Entry point for launching an IPython kernel.\n",
            "/usr/local/lib/python3.7/dist-packages/ipykernel_launcher.py:2: SettingWithCopyWarning: \n",
            "A value is trying to be set on a copy of a slice from a DataFrame.\n",
            "Try using .loc[row_indexer,col_indexer] = value instead\n",
            "\n",
            "See the caveats in the documentation: https://pandas.pydata.org/pandas-docs/stable/user_guide/indexing.html#returning-a-view-versus-a-copy\n",
            "  \n",
            "/usr/local/lib/python3.7/dist-packages/ipykernel_launcher.py:3: SettingWithCopyWarning: \n",
            "A value is trying to be set on a copy of a slice from a DataFrame.\n",
            "Try using .loc[row_indexer,col_indexer] = value instead\n",
            "\n",
            "See the caveats in the documentation: https://pandas.pydata.org/pandas-docs/stable/user_guide/indexing.html#returning-a-view-versus-a-copy\n",
            "  This is separate from the ipykernel package so we can avoid doing imports until\n"
          ],
          "name": "stderr"
        }
      ]
    },
    {
      "cell_type": "code",
      "metadata": {
        "id": "Ez2D6rDmIotZ"
      },
      "source": [
        "train_corpus = \" \".join(df_train[\"Content\"])\n",
        "train_corpus = train_corpus.lower()"
      ],
      "execution_count": 21,
      "outputs": []
    },
    {
      "cell_type": "code",
      "metadata": {
        "id": "e6N35LEsIctc"
      },
      "source": [
        "tokens = word_tokenize(train_corpus)"
      ],
      "execution_count": 22,
      "outputs": []
    },
    {
      "cell_type": "code",
      "metadata": {
        "id": "nFnV7llcI9cw"
      },
      "source": [
        "tokens_filtered = [word for word in tokens if word.isalnum()]"
      ],
      "execution_count": 25,
      "outputs": []
    },
    {
      "cell_type": "code",
      "metadata": {
        "id": "VmiX1b0nIcv5"
      },
      "source": [
        "dist = FreqDist(tokens_filtered)\n",
        "tokens_filtered_top = [pair[0] for pair in dist.most_common(max_words-1)]"
      ],
      "execution_count": 28,
      "outputs": []
    },
    {
      "cell_type": "code",
      "metadata": {
        "id": "s7NAT4EOIcy4"
      },
      "source": [
        "vocabulary = {v: k for k, v in dict(enumerate(tokens_filtered_top, 1)).items()}"
      ],
      "execution_count": 29,
      "outputs": []
    },
    {
      "cell_type": "code",
      "metadata": {
        "id": "I-kI7jH2JNGF"
      },
      "source": [
        "def text_to_sequence(text, maxlen):\n",
        "    result = []\n",
        "    tokens = word_tokenize(text.lower())\n",
        "    tokens_filtered = [word for word in tokens if word.isalnum()]\n",
        "    for word in tokens_filtered:\n",
        "        if word in vocabulary:\n",
        "            result.append(vocabulary[word])\n",
        "    padding = [0]*(maxlen-len(result))\n",
        "    return padding + result[-maxlen:]"
      ],
      "execution_count": 30,
      "outputs": []
    },
    {
      "cell_type": "code",
      "metadata": {
        "id": "oGhfY_zyJNIp"
      },
      "source": [
        "x_train = np.asarray([text_to_sequence(text, max_len) for text in df_train[\"Content\"]], dtype=np.int32)\n",
        "x_test = np.asarray([text_to_sequence(text, max_len) for text in df_test[\"Content\"]], dtype=np.int32)\n",
        "x_val = np.asarray([text_to_sequence(text, max_len) for text in df_val[\"Content\"]], dtype=np.int32)"
      ],
      "execution_count": 32,
      "outputs": []
    },
    {
      "cell_type": "code",
      "metadata": {
        "colab": {
          "base_uri": "https://localhost:8080/"
        },
        "id": "VnkDhDynJNLG",
        "outputId": "eab5828f-c371-43c2-ef7d-f86347ce626f"
      },
      "source": [
        "x_train.shape, max_len"
      ],
      "execution_count": 33,
      "outputs": [
        {
          "output_type": "execute_result",
          "data": {
            "text/plain": [
              "((13428, 20), 20)"
            ]
          },
          "metadata": {
            "tags": []
          },
          "execution_count": 33
        }
      ]
    },
    {
      "cell_type": "code",
      "metadata": {
        "id": "p_dY4xmSJNP0"
      },
      "source": [
        "y_train = tf.keras.utils.to_categorical(df_train[\"Rating\"], num_classes)\n",
        "y_val = tf.keras.utils.to_categorical(df_val[\"Rating\"], num_classes)"
      ],
      "execution_count": 37,
      "outputs": []
    },
    {
      "cell_type": "code",
      "metadata": {
        "id": "aONed159JNSV"
      },
      "source": [
        "epochs = 20\n",
        "batch_size = 16\n",
        "print_batch_n = 100"
      ],
      "execution_count": 38,
      "outputs": []
    },
    {
      "cell_type": "code",
      "metadata": {
        "id": "EZUvdHhSJNUb"
      },
      "source": [
        "model = Sequential()\n",
        "model.add(Embedding(input_dim=max_words, output_dim=128, input_length=max_len))\n",
        "model.add(Conv1D(128, 5))\n",
        "model.add(Activation(\"relu\"))\n",
        "model.add(GlobalMaxPool1D())\n",
        "model.add(Dense(num_classes))\n",
        "model.add(Activation('softmax'))\n",
        "\n",
        "\n",
        "model.compile(\n",
        "    loss='categorical_crossentropy',\n",
        "    optimizer='adam',\n",
        "    metrics=['accuracy']\n",
        ")"
      ],
      "execution_count": 39,
      "outputs": []
    },
    {
      "cell_type": "code",
      "metadata": {
        "id": "gSIzcnjcJNXN"
      },
      "source": [
        "tensorboard=TensorBoard(log_dir='./logs', write_graph=True, write_images=True)\n",
        "early_stopping=EarlyStopping(monitor='val_loss')  "
      ],
      "execution_count": 40,
      "outputs": []
    },
    {
      "cell_type": "code",
      "metadata": {
        "colab": {
          "base_uri": "https://localhost:8080/"
        },
        "id": "Mtz-Ep1xHLLO",
        "outputId": "7903bfb3-ac9a-4095-f279-d044d129a4c9"
      },
      "source": [
        "history = model.fit(x_train, y_train,\n",
        "                    batch_size=batch_size,\n",
        "                    epochs=epochs,\n",
        "                    verbose=1,\n",
        "                    validation_split=0.1,\n",
        "                    callbacks=[tensorboard, early_stopping])"
      ],
      "execution_count": 41,
      "outputs": [
        {
          "output_type": "stream",
          "text": [
            "Epoch 1/20\n",
            "756/756 [==============================] - 21s 9ms/step - loss: 0.8291 - accuracy: 0.7365 - val_loss: 0.6081 - val_accuracy: 0.7766\n"
          ],
          "name": "stdout"
        }
      ]
    },
    {
      "cell_type": "code",
      "metadata": {
        "colab": {
          "base_uri": "https://localhost:8080/"
        },
        "id": "JcBMNFYOHLN9",
        "outputId": "b94f2f78-c13a-470f-bb1f-d4a00ba827ed"
      },
      "source": [
        "score = model.evaluate(x_val, y_val, batch_size=batch_size, verbose=1)\n",
        "print('\\n')\n",
        "print('Test score:', score[0])\n",
        "print('Test accuracy:', score[1])"
      ],
      "execution_count": 42,
      "outputs": [
        {
          "output_type": "stream",
          "text": [
            "190/190 [==============================] - 0s 2ms/step - loss: 0.6684 - accuracy: 0.7676\n",
            "\n",
            "\n",
            "Test score: 0.6684021949768066\n",
            "Test accuracy: 0.7676102519035339\n"
          ],
          "name": "stdout"
        }
      ]
    },
    {
      "cell_type": "code",
      "metadata": {
        "id": "d4xqLzMpHLQS"
      },
      "source": [
        "def different_convalutions(conv=(2,2)):\n",
        "    results = []\n",
        "    for temp_conv in range(conv[0], conv[1]+1):\n",
        "        model = Sequential()\n",
        "        model.add(Embedding(input_dim=max_words, output_dim=128, input_length=max_len))\n",
        "        model.add(Conv1D(128, temp_conv))\n",
        "        model.add(Activation(\"relu\"))\n",
        "        model.add(GlobalMaxPool1D())\n",
        "        model.add(Activation(\"relu\"))\n",
        "        model.add(Dense(num_classes))\n",
        "        model.add(Activation('softmax'))\n",
        "\n",
        "        model.compile(\n",
        "            loss='categorical_crossentropy',\n",
        "            optimizer='adam',\n",
        "            metrics=['accuracy']\n",
        "        )\n",
        "        tensorboard=TensorBoard(log_dir='./logs', write_graph=True, write_images=True)\n",
        "        early_stopping=EarlyStopping(monitor='val_loss')  \n",
        "\n",
        "\n",
        "        history = model.fit(x_train, y_train,\n",
        "                            batch_size=batch_size,\n",
        "                            epochs=epochs,\n",
        "                            verbose=1,\n",
        "                            validation_split=0.1,\n",
        "                            callbacks=[tensorboard, early_stopping])\n",
        "        # results.append((history.history, temp_conv))\n",
        "        results.append(history.history)\n",
        "    return results, [i for i in range(conv[0], conv[1]+1)]"
      ],
      "execution_count": 43,
      "outputs": []
    },
    {
      "cell_type": "code",
      "metadata": {
        "colab": {
          "base_uri": "https://localhost:8080/"
        },
        "id": "v78naReGHLS4",
        "outputId": "8e5747f1-488a-4dc7-b27e-600070b0ff5d"
      },
      "source": [
        "res = different_convalutions((1,15))"
      ],
      "execution_count": 44,
      "outputs": [
        {
          "output_type": "stream",
          "text": [
            "Epoch 1/20\n",
            "756/756 [==============================] - 5s 6ms/step - loss: 0.9008 - accuracy: 0.7157 - val_loss: 0.6079 - val_accuracy: 0.7856\n",
            "Epoch 1/20\n",
            "756/756 [==============================] - 6s 6ms/step - loss: 0.8653 - accuracy: 0.7271 - val_loss: 0.6196 - val_accuracy: 0.7759\n",
            "Epoch 1/20\n",
            "756/756 [==============================] - 6s 7ms/step - loss: 0.8518 - accuracy: 0.7330 - val_loss: 0.6020 - val_accuracy: 0.7870\n",
            "Epoch 1/20\n",
            "756/756 [==============================] - 7s 8ms/step - loss: 0.8582 - accuracy: 0.7344 - val_loss: 0.6144 - val_accuracy: 0.7870\n",
            "Epoch 1/20\n",
            "756/756 [==============================] - 7s 8ms/step - loss: 0.8375 - accuracy: 0.7353 - val_loss: 0.6019 - val_accuracy: 0.7856\n",
            "Epoch 1/20\n",
            "756/756 [==============================] - 8s 9ms/step - loss: 0.8199 - accuracy: 0.7435 - val_loss: 0.6089 - val_accuracy: 0.7848\n",
            "Epoch 1/20\n",
            "756/756 [==============================] - 8s 9ms/step - loss: 0.8222 - accuracy: 0.7410 - val_loss: 0.6073 - val_accuracy: 0.7848\n",
            "Epoch 1/20\n",
            "756/756 [==============================] - 12s 14ms/step - loss: 0.8249 - accuracy: 0.7376 - val_loss: 0.6036 - val_accuracy: 0.7811\n",
            "Epoch 1/20\n",
            "756/756 [==============================] - 12s 14ms/step - loss: 0.8168 - accuracy: 0.7400 - val_loss: 0.6092 - val_accuracy: 0.7870\n",
            "Epoch 1/20\n",
            "756/756 [==============================] - 12s 15ms/step - loss: 0.8109 - accuracy: 0.7438 - val_loss: 0.6184 - val_accuracy: 0.7803\n",
            "Epoch 1/20\n",
            "756/756 [==============================] - 13s 15ms/step - loss: 0.8254 - accuracy: 0.7342 - val_loss: 0.6209 - val_accuracy: 0.7736\n",
            "Epoch 1/20\n",
            "756/756 [==============================] - 13s 15ms/step - loss: 0.8185 - accuracy: 0.7377 - val_loss: 0.6130 - val_accuracy: 0.7803\n",
            "Epoch 1/20\n",
            "756/756 [==============================] - 13s 16ms/step - loss: 0.8123 - accuracy: 0.7442 - val_loss: 0.6306 - val_accuracy: 0.7699\n",
            "Epoch 1/20\n",
            "756/756 [==============================] - 14s 17ms/step - loss: 0.8027 - accuracy: 0.7399 - val_loss: 0.6152 - val_accuracy: 0.7856\n",
            "Epoch 1/20\n",
            "756/756 [==============================] - 14s 17ms/step - loss: 0.8093 - accuracy: 0.7402 - val_loss: 0.6244 - val_accuracy: 0.7811\n"
          ],
          "name": "stdout"
        }
      ]
    },
    {
      "cell_type": "code",
      "metadata": {
        "colab": {
          "base_uri": "https://localhost:8080/",
          "height": 508
        },
        "id": "FYN_tIdGHLVa",
        "outputId": "382dad10-b82a-4b2f-828f-1804d23c577c"
      },
      "source": [
        "pd.DataFrame(res[0], index=res[1])"
      ],
      "execution_count": 45,
      "outputs": [
        {
          "output_type": "execute_result",
          "data": {
            "text/html": [
              "<div>\n",
              "<style scoped>\n",
              "    .dataframe tbody tr th:only-of-type {\n",
              "        vertical-align: middle;\n",
              "    }\n",
              "\n",
              "    .dataframe tbody tr th {\n",
              "        vertical-align: top;\n",
              "    }\n",
              "\n",
              "    .dataframe thead th {\n",
              "        text-align: right;\n",
              "    }\n",
              "</style>\n",
              "<table border=\"1\" class=\"dataframe\">\n",
              "  <thead>\n",
              "    <tr style=\"text-align: right;\">\n",
              "      <th></th>\n",
              "      <th>loss</th>\n",
              "      <th>accuracy</th>\n",
              "      <th>val_loss</th>\n",
              "      <th>val_accuracy</th>\n",
              "    </tr>\n",
              "  </thead>\n",
              "  <tbody>\n",
              "    <tr>\n",
              "      <th>1</th>\n",
              "      <td>[0.7288829684257507]</td>\n",
              "      <td>[0.7559784650802612]</td>\n",
              "      <td>[0.60785973072052]</td>\n",
              "      <td>[0.7855547070503235]</td>\n",
              "    </tr>\n",
              "    <tr>\n",
              "      <th>2</th>\n",
              "      <td>[0.7271360158920288]</td>\n",
              "      <td>[0.7567232251167297]</td>\n",
              "      <td>[0.6196072101593018]</td>\n",
              "      <td>[0.7758749127388]</td>\n",
              "    </tr>\n",
              "    <tr>\n",
              "      <th>3</th>\n",
              "      <td>[0.7232279777526855]</td>\n",
              "      <td>[0.7583781480789185]</td>\n",
              "      <td>[0.6020014882087708]</td>\n",
              "      <td>[0.7870439291000366]</td>\n",
              "    </tr>\n",
              "    <tr>\n",
              "      <th>4</th>\n",
              "      <td>[0.7205296158790588]</td>\n",
              "      <td>[0.7635912299156189]</td>\n",
              "      <td>[0.6143738627433777]</td>\n",
              "      <td>[0.7870439291000366]</td>\n",
              "    </tr>\n",
              "    <tr>\n",
              "      <th>5</th>\n",
              "      <td>[0.7180187702178955]</td>\n",
              "      <td>[0.7603641152381897]</td>\n",
              "      <td>[0.6019331812858582]</td>\n",
              "      <td>[0.7855547070503235]</td>\n",
              "    </tr>\n",
              "    <tr>\n",
              "      <th>6</th>\n",
              "      <td>[0.7108978033065796]</td>\n",
              "      <td>[0.7636739611625671]</td>\n",
              "      <td>[0.6088784337043762]</td>\n",
              "      <td>[0.7848101258277893]</td>\n",
              "    </tr>\n",
              "    <tr>\n",
              "      <th>7</th>\n",
              "      <td>[0.7122489213943481]</td>\n",
              "      <td>[0.7648324370384216]</td>\n",
              "      <td>[0.6073293685913086]</td>\n",
              "      <td>[0.7848101258277893]</td>\n",
              "    </tr>\n",
              "    <tr>\n",
              "      <th>8</th>\n",
              "      <td>[0.7124065160751343]</td>\n",
              "      <td>[0.7625982761383057]</td>\n",
              "      <td>[0.6035803556442261]</td>\n",
              "      <td>[0.7810871005058289]</td>\n",
              "    </tr>\n",
              "    <tr>\n",
              "      <th>9</th>\n",
              "      <td>[0.7168221473693848]</td>\n",
              "      <td>[0.7609432935714722]</td>\n",
              "      <td>[0.6091580390930176]</td>\n",
              "      <td>[0.7870439291000366]</td>\n",
              "    </tr>\n",
              "    <tr>\n",
              "      <th>10</th>\n",
              "      <td>[0.7168812155723572]</td>\n",
              "      <td>[0.7611915469169617]</td>\n",
              "      <td>[0.6184477806091309]</td>\n",
              "      <td>[0.7803425192832947]</td>\n",
              "    </tr>\n",
              "    <tr>\n",
              "      <th>11</th>\n",
              "      <td>[0.7208127975463867]</td>\n",
              "      <td>[0.756805956363678]</td>\n",
              "      <td>[0.6208594441413879]</td>\n",
              "      <td>[0.7736411094665527]</td>\n",
              "    </tr>\n",
              "    <tr>\n",
              "      <th>12</th>\n",
              "      <td>[0.7195839881896973]</td>\n",
              "      <td>[0.7577989101409912]</td>\n",
              "      <td>[0.61298668384552]</td>\n",
              "      <td>[0.7803425192832947]</td>\n",
              "    </tr>\n",
              "    <tr>\n",
              "      <th>13</th>\n",
              "      <td>[0.725445032119751]</td>\n",
              "      <td>[0.7575506567955017]</td>\n",
              "      <td>[0.6306044459342957]</td>\n",
              "      <td>[0.7699180841445923]</td>\n",
              "    </tr>\n",
              "    <tr>\n",
              "      <th>14</th>\n",
              "      <td>[0.7183211445808411]</td>\n",
              "      <td>[0.7584608793258667]</td>\n",
              "      <td>[0.6152393221855164]</td>\n",
              "      <td>[0.7855547070503235]</td>\n",
              "    </tr>\n",
              "    <tr>\n",
              "      <th>15</th>\n",
              "      <td>[0.7200407981872559]</td>\n",
              "      <td>[0.7579644322395325]</td>\n",
              "      <td>[0.6243739724159241]</td>\n",
              "      <td>[0.7810871005058289]</td>\n",
              "    </tr>\n",
              "  </tbody>\n",
              "</table>\n",
              "</div>"
            ],
            "text/plain": [
              "                    loss  ...          val_accuracy\n",
              "1   [0.7288829684257507]  ...  [0.7855547070503235]\n",
              "2   [0.7271360158920288]  ...     [0.7758749127388]\n",
              "3   [0.7232279777526855]  ...  [0.7870439291000366]\n",
              "4   [0.7205296158790588]  ...  [0.7870439291000366]\n",
              "5   [0.7180187702178955]  ...  [0.7855547070503235]\n",
              "6   [0.7108978033065796]  ...  [0.7848101258277893]\n",
              "7   [0.7122489213943481]  ...  [0.7848101258277893]\n",
              "8   [0.7124065160751343]  ...  [0.7810871005058289]\n",
              "9   [0.7168221473693848]  ...  [0.7870439291000366]\n",
              "10  [0.7168812155723572]  ...  [0.7803425192832947]\n",
              "11  [0.7208127975463867]  ...  [0.7736411094665527]\n",
              "12  [0.7195839881896973]  ...  [0.7803425192832947]\n",
              "13   [0.725445032119751]  ...  [0.7699180841445923]\n",
              "14  [0.7183211445808411]  ...  [0.7855547070503235]\n",
              "15  [0.7200407981872559]  ...  [0.7810871005058289]\n",
              "\n",
              "[15 rows x 4 columns]"
            ]
          },
          "metadata": {
            "tags": []
          },
          "execution_count": 45
        }
      ]
    },
    {
      "cell_type": "code",
      "metadata": {
        "colab": {
          "base_uri": "https://localhost:8080/",
          "height": 35
        },
        "id": "GNdd-_HzHLYI",
        "outputId": "f9328d8e-02e2-416a-a224-7cb9eac7131e"
      },
      "source": [
        "with open('../content/drive/MyDrive/model.txt', 'r', encoding='utf8') as f:\n",
        "    pretrained_words = f.readlines()\n",
        "pretrained_words.pop(0)"
      ],
      "execution_count": 47,
      "outputs": [
        {
          "output_type": "execute_result",
          "data": {
            "application/vnd.google.colaboratory.intrinsic+json": {
              "type": "string"
            },
            "text/plain": [
              "'189193 300\\n'"
            ]
          },
          "metadata": {
            "tags": []
          },
          "execution_count": 47
        }
      ]
    },
    {
      "cell_type": "code",
      "metadata": {
        "colab": {
          "base_uri": "https://localhost:8080/",
          "height": 35
        },
        "id": "DwsMcjFnHLar",
        "outputId": "eab2dafc-c6c2-40bf-f381-d058ef04cbc0"
      },
      "source": [
        "pretrained_words[1].split()[0].split('_')[0]"
      ],
      "execution_count": 48,
      "outputs": [
        {
          "output_type": "execute_result",
          "data": {
            "application/vnd.google.colaboratory.intrinsic+json": {
              "type": "string"
            },
            "text/plain": [
              "'быть'"
            ]
          },
          "metadata": {
            "tags": []
          },
          "execution_count": 48
        }
      ]
    },
    {
      "cell_type": "code",
      "metadata": {
        "colab": {
          "base_uri": "https://localhost:8080/"
        },
        "id": "zJNGljbVHLdR",
        "outputId": "726405a8-9435-41ef-acb9-e8cbf09c6075"
      },
      "source": [
        "np.asarray(pretrained_words[1].split()[1:], dtype='float32').shape"
      ],
      "execution_count": 49,
      "outputs": [
        {
          "output_type": "execute_result",
          "data": {
            "text/plain": [
              "(300,)"
            ]
          },
          "metadata": {
            "tags": []
          },
          "execution_count": 49
        }
      ]
    },
    {
      "cell_type": "code",
      "metadata": {
        "colab": {
          "base_uri": "https://localhost:8080/"
        },
        "id": "b2siHh7HHLfu",
        "outputId": "d69bed98-961b-4976-aa59-27f823072d24"
      },
      "source": [
        "counter = 0\n",
        "embeddings_index = {}\n",
        "for pre_word in pretrained_words:\n",
        "    counter += 1\n",
        "    word = pre_word.split()[0].split('_')[0]\n",
        "    coefs = np.asarray(pre_word.split()[1:], dtype='float32')\n",
        "    embeddings_index[word] = coefs\n",
        "print(counter)"
      ],
      "execution_count": 50,
      "outputs": [
        {
          "output_type": "stream",
          "text": [
            "189193\n"
          ],
          "name": "stdout"
        }
      ]
    },
    {
      "cell_type": "code",
      "metadata": {
        "id": "ukdx5euXHLiJ"
      },
      "source": [
        "EMBEDDING_DIM = 300"
      ],
      "execution_count": 51,
      "outputs": []
    },
    {
      "cell_type": "code",
      "metadata": {
        "id": "sp9TO2-uHLkw"
      },
      "source": [
        "\n",
        "embedding_matrix = np.zeros((len(vocabulary) + 1, EMBEDDING_DIM))\n",
        "for word, i in vocabulary.items():\n",
        "    embedding_vector = embeddings_index.get(word)\n",
        "    if embedding_vector is not None:\n",
        "        embedding_matrix[i] = embedding_vector"
      ],
      "execution_count": 52,
      "outputs": []
    },
    {
      "cell_type": "code",
      "metadata": {
        "id": "w7zGbaEQHLnG"
      },
      "source": [
        "embedding_layer = Embedding(input_dim=len(vocabulary) + 1,\n",
        "                            output_dim=EMBEDDING_DIM,\n",
        "                            weights=[embedding_matrix],\n",
        "                            input_length=max_len,\n",
        "                            trainable=False)"
      ],
      "execution_count": 53,
      "outputs": []
    },
    {
      "cell_type": "code",
      "metadata": {
        "colab": {
          "base_uri": "https://localhost:8080/"
        },
        "id": "MeGtDEOVHLpg",
        "outputId": "d6488930-c460-4496-bfe4-fd7b3046dde5"
      },
      "source": [
        "model = Sequential()\n",
        "model.add(embedding_layer)\n",
        "model.add(Conv1D(128, 5))\n",
        "model.add(Activation(\"relu\"))\n",
        "model.add(GlobalMaxPool1D())\n",
        "model.add(Dense(50))\n",
        "model.add(Activation(\"relu\"))\n",
        "model.add(Dense(num_classes))\n",
        "model.add(Activation('softmax'))\n",
        "model.summary()"
      ],
      "execution_count": 54,
      "outputs": [
        {
          "output_type": "stream",
          "text": [
            "Model: \"sequential_16\"\n",
            "_________________________________________________________________\n",
            "Layer (type)                 Output Shape              Param #   \n",
            "=================================================================\n",
            "embedding_16 (Embedding)     (None, 20, 300)           600000    \n",
            "_________________________________________________________________\n",
            "conv1d_16 (Conv1D)           (None, 16, 128)           192128    \n",
            "_________________________________________________________________\n",
            "activation_47 (Activation)   (None, 16, 128)           0         \n",
            "_________________________________________________________________\n",
            "global_max_pooling1d_16 (Glo (None, 128)               0         \n",
            "_________________________________________________________________\n",
            "dense_16 (Dense)             (None, 50)                6450      \n",
            "_________________________________________________________________\n",
            "activation_48 (Activation)   (None, 50)                0         \n",
            "_________________________________________________________________\n",
            "dense_17 (Dense)             (None, 6)                 306       \n",
            "_________________________________________________________________\n",
            "activation_49 (Activation)   (None, 6)                 0         \n",
            "=================================================================\n",
            "Total params: 798,884\n",
            "Trainable params: 198,884\n",
            "Non-trainable params: 600,000\n",
            "_________________________________________________________________\n"
          ],
          "name": "stdout"
        }
      ]
    },
    {
      "cell_type": "code",
      "metadata": {
        "id": "ZV7aLewuHLsD"
      },
      "source": [
        "model.compile(\n",
        "    loss='categorical_crossentropy',\n",
        "    optimizer='adam',\n",
        "    metrics=['accuracy']\n",
        ")"
      ],
      "execution_count": 55,
      "outputs": []
    },
    {
      "cell_type": "code",
      "metadata": {
        "colab": {
          "base_uri": "https://localhost:8080/"
        },
        "id": "yEKsFCILHLuh",
        "outputId": "b706fc05-41fc-4008-c22e-1356ba4b2e7c"
      },
      "source": [
        "history = model.fit(x_train, y_train,\n",
        "                    batch_size=batch_size,\n",
        "                    epochs=epochs,\n",
        "                    verbose=1,\n",
        "                    validation_split=0.1,\n",
        "                    callbacks=[tensorboard, early_stopping])"
      ],
      "execution_count": 56,
      "outputs": [
        {
          "output_type": "stream",
          "text": [
            "Epoch 1/20\n",
            "756/756 [==============================] - 7s 8ms/step - loss: 0.9298 - accuracy: 0.7198 - val_loss: 0.7065 - val_accuracy: 0.7424\n"
          ],
          "name": "stdout"
        }
      ]
    },
    {
      "cell_type": "markdown",
      "metadata": {
        "id": "XHA_lv1ATCzo"
      },
      "source": [
        "**Вывод:**\n",
        "Результат модели с предобученным эмбеддингом оказался чуть ниже. Веорятно, это связано с безграмотностью отзывов (присутствуют смайлы) - в претренированном эмбеддинге таких слов просто нет"
      ]
    }
  ]
}